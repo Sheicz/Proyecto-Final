{
  "nbformat": 4,
  "nbformat_minor": 0,
  "metadata": {
    "colab": {
      "provenance": [],
      "machine_shape": "hm"
    },
    "kernelspec": {
      "name": "python3",
      "display_name": "Python 3"
    },
    "language_info": {
      "name": "python"
    }
  },
  "cells": [
    {
      "cell_type": "code",
      "execution_count": null,
      "metadata": {
        "colab": {
          "base_uri": "https://localhost:8080/"
        },
        "id": "EFqiA7aIHmWa",
        "outputId": "b263fa82-2d9d-406b-9988-184f2aaafa74"
      },
      "outputs": [
        {
          "output_type": "stream",
          "name": "stdout",
          "text": [
            "Mounted at /content/drive\n"
          ]
        }
      ],
      "source": [
        "from google.colab import drive\n",
        "drive.mount('/content/drive')"
      ]
    },
    {
      "cell_type": "code",
      "source": [
        "base_path = \"/content/drive/MyDrive/IMAGENES_SATELITALES_INUNDACIONES/2021/FRANCE/Sentinel2\""
      ],
      "metadata": {
        "id": "q3vfPQsYH5vh"
      },
      "execution_count": null,
      "outputs": []
    },
    {
      "cell_type": "code",
      "source": [
        "# Importar TensorFlow y verificar la versión\n",
        "import tensorflow as tf\n",
        "print(tf.__version__)\n",
        "\n",
        "# Importar otras librerías útiles\n",
        "import numpy as np\n",
        "import matplotlib.pyplot as plt\n",
        "import os\n",
        "import cv2  # Si necesitas manipulación de imágenes avanzada\n",
        "from sklearn.model_selection import train_test_split  # Para dividir los datos"
      ],
      "metadata": {
        "colab": {
          "base_uri": "https://localhost:8080/"
        },
        "id": "A0CiyZpGH_J4",
        "outputId": "d54bff2d-30ce-4516-d7f5-ad4dd769cfc7"
      },
      "execution_count": null,
      "outputs": [
        {
          "output_type": "stream",
          "name": "stdout",
          "text": [
            "2.14.0\n"
          ]
        }
      ]
    },
    {
      "cell_type": "code",
      "source": [
        "# Rutas de las carpetas\n",
        "base_path = \"/content/drive/MyDrive/IMAGENES_SATELITALES_INUNDACIONES/2021/FRANCE/Sentinel2\"\n",
        "before_path = os.path.join(base_path, \"BEFORE\")\n",
        "after_path = os.path.join(base_path, \"AFTER\")\n",
        "mask_path = os.path.join(base_path, \"MASK\")\n",
        "\n",
        "# Función para cargar imágenes desde una carpeta\n",
        "def load_images_from_folder(folder):\n",
        "    images = []\n",
        "    filenames = sorted(os.listdir(folder))  # Asegura orden alfabético\n",
        "    for filename in filenames:\n",
        "        img = cv2.imread(os.path.join(folder, filename), cv2.IMREAD_COLOR)\n",
        "        if img is not None:\n",
        "            images.append(img)\n",
        "    return images\n",
        "\n",
        "# Cargar imágenes\n",
        "before_images = load_images_from_folder(before_path)\n",
        "after_images = load_images_from_folder(after_path)\n",
        "mask_images = load_images_from_folder(mask_path)"
      ],
      "metadata": {
        "id": "JRlG4_BYIBKt"
      },
      "execution_count": null,
      "outputs": []
    },
    {
      "cell_type": "code",
      "source": [
        "# Normalizar imágenes\n",
        "def normalize_images(images):\n",
        "    normalized_images = []\n",
        "    for img in images:\n",
        "        img = img / 255.0  # Normalizar\n",
        "        normalized_images.append(img)\n",
        "    return np.array(normalized_images)\n"
      ],
      "metadata": {
        "id": "S4U9m0K2IDGT"
      },
      "execution_count": null,
      "outputs": []
    },
    {
      "cell_type": "code",
      "source": [
        "# Aplicar normalización\n",
        "before_images = normalize_images(before_images)\n",
        "after_images = normalize_images(after_images)\n",
        "mask_images = normalize_images(mask_images)"
      ],
      "metadata": {
        "id": "PGiNPgLVIFRT"
      },
      "execution_count": null,
      "outputs": []
    },
    {
      "cell_type": "code",
      "source": [
        "from sklearn.model_selection import train_test_split\n",
        "\n",
        "# Dividir las imágenes 'before'\n",
        "before_train, before_test = train_test_split(before_images, test_size=0.3, random_state=42)\n",
        "\n",
        "# Dividir las imágenes 'after'\n",
        "after_train, after_test = train_test_split(after_images, test_size=0.3, random_state=42)\n",
        "\n",
        "# Dividir las máscaras\n",
        "mask_train, mask_test = train_test_split(mask_images, test_size=0.3, random_state=42)\n"
      ],
      "metadata": {
        "id": "sgZzFac2IHEj"
      },
      "execution_count": null,
      "outputs": []
    },
    {
      "cell_type": "code",
      "source": [
        "# Preparar datos de entrada\n",
        "X_train = [np.array(before_train), np.array(after_train)]\n",
        "Y_train = np.array(mask_train)\n",
        "\n",
        "X_test = [np.array(before_test), np.array(after_test)]\n",
        "Y_test = np.array(mask_test)\n"
      ],
      "metadata": {
        "id": "13t0i9sgIJVF"
      },
      "execution_count": null,
      "outputs": []
    },
    {
      "cell_type": "code",
      "source": [
        "import tensorflow as tf\n",
        "from tensorflow.keras.applications.inception_v3 import InceptionV3\n",
        "from tensorflow.keras.models import Model\n",
        "from tensorflow.keras.layers import Input, Dense, Flatten, concatenate, Conv2D, UpSampling2D\n",
        "\n",
        "# Cargar InceptionV3 preentrenado, sin las capas superiores\n",
        "base_inception_model = InceptionV3(weights='imagenet', include_top=False)\n",
        "\n",
        "# Definir las entradas para las imágenes 'antes' y 'después'\n",
        "input_before = Input(shape=(256, 256, 3))\n",
        "input_after = Input(shape=(256, 256, 3))\n",
        "\n",
        "# Pasar las imágenes 'antes' y 'después' a través de InceptionV3\n",
        "features_before = base_inception_model(input_before)\n",
        "features_after = base_inception_model(input_after)\n",
        "\n",
        "# Combinar las características extraídas de las imágenes 'antes' y 'después'\n",
        "combined_features = concatenate([features_before, features_after])\n",
        "\n",
        "# Agregar capas adicionales según sea necesario\n",
        "x = Conv2D(512, (3, 3), activation='relu', padding='same')(combined_features)\n",
        "x = UpSampling2D((2, 2))(x)  # Upsampling a 16x16\n",
        "x = Conv2D(256, (3, 3), activation='relu', padding='same')(x)\n",
        "x = UpSampling2D((2, 2))(x)  # Upsampling a 32x32\n",
        "x = Conv2D(128, (3, 3), activation='relu', padding='same')(x)\n",
        "x = UpSampling2D((2, 2))(x)  # Upsampling a 64x64\n",
        "x = Conv2D(64, (3, 3), activation='relu', padding='same')(x)\n",
        "x = UpSampling2D((2, 2))(x)  # Upsampling a 128x128\n",
        "x = Conv2D(32, (3, 3), activation='relu', padding='same')(x)\n",
        "x = UpSampling2D((2, 2))(x)  # Upsampling a 256x256\n",
        "x = Conv2D(16, (3, 3), activation='relu', padding='same')(x)\n",
        "x = UpSampling2D((2, 2))(x)  # Upsampling a 512x512\n",
        "x = Conv2D(1, (3, 3), activation='relu', padding='same')(x)\n",
        "x = tf.image.resize(x, [256, 256])  # Redimensionar a 299x299\n",
        "\n",
        "output_layer = x\n",
        "\n",
        "model = Model(inputs=[input_before, input_after], outputs=output_layer)\n",
        "model.compile(optimizer='adam', loss='binary_crossentropy', metrics=['accuracy'])\n",
        "\n",
        "\n",
        "# Ahora puedes proceder con el entrenamiento del modelo:\n",
        "# history = model.fit(X_train, Y_train, epochs=10, validation_split=0.2, batch_size=32)\n"
      ],
      "metadata": {
        "id": "ZFp2hlSEIJXY",
        "colab": {
          "base_uri": "https://localhost:8080/"
        },
        "outputId": "07ada209-33b2-4a86-e6d7-d8f9201ab258"
      },
      "execution_count": null,
      "outputs": [
        {
          "output_type": "stream",
          "name": "stdout",
          "text": [
            "Downloading data from https://storage.googleapis.com/tensorflow/keras-applications/inception_v3/inception_v3_weights_tf_dim_ordering_tf_kernels_notop.h5\n",
            "87910968/87910968 [==============================] - 4s 0us/step\n"
          ]
        }
      ]
    },
    {
      "cell_type": "code",
      "source": [
        "history = model.fit(\n",
        "    X_train,\n",
        "    Y_train,\n",
        "    epochs=10,\n",
        "    validation_split=0.2,\n",
        "    batch_size=32\n",
        ")\n"
      ],
      "metadata": {
        "colab": {
          "base_uri": "https://localhost:8080/"
        },
        "id": "6_n2E9K1KI-J",
        "outputId": "9cd4333d-216f-46e3-bd18-d3797b501d67"
      },
      "execution_count": null,
      "outputs": [
        {
          "output_type": "stream",
          "name": "stdout",
          "text": [
            "Epoch 1/10\n",
            "1/1 [==============================] - 36s 36s/step - loss: 2.4060 - accuracy: 0.8394 - val_loss: 13.5252 - val_accuracy: 0.1124\n",
            "Epoch 2/10\n",
            "1/1 [==============================] - 7s 7s/step - loss: 12.7618 - accuracy: 0.1613 - val_loss: 13.4625 - val_accuracy: 0.1160\n",
            "Epoch 3/10\n",
            "1/1 [==============================] - 7s 7s/step - loss: 12.5829 - accuracy: 0.1708 - val_loss: 13.2538 - val_accuracy: 0.1281\n",
            "Epoch 4/10\n",
            "1/1 [==============================] - 7s 7s/step - loss: 11.5394 - accuracy: 0.2286 - val_loss: 2.6643 - val_accuracy: 0.8259\n",
            "Epoch 5/10\n",
            "1/1 [==============================] - 7s 7s/step - loss: 3.1975 - accuracy: 0.7895 - val_loss: 1.8300 - val_accuracy: 0.8812\n",
            "Epoch 6/10\n",
            "1/1 [==============================] - 8s 8s/step - loss: 2.5422 - accuracy: 0.8345 - val_loss: 1.7359 - val_accuracy: 0.8874\n",
            "Epoch 7/10\n",
            "1/1 [==============================] - 7s 7s/step - loss: 2.4787 - accuracy: 0.8392 - val_loss: 1.7334 - val_accuracy: 0.8876\n",
            "Epoch 8/10\n",
            "1/1 [==============================] - 7s 7s/step - loss: 2.4784 - accuracy: 0.8393 - val_loss: 1.7333 - val_accuracy: 0.8876\n",
            "Epoch 9/10\n",
            "1/1 [==============================] - 7s 7s/step - loss: 2.4781 - accuracy: 0.8393 - val_loss: 1.7330 - val_accuracy: 0.8876\n",
            "Epoch 10/10\n",
            "1/1 [==============================] - 7s 7s/step - loss: 2.4781 - accuracy: 0.8393 - val_loss: 1.7329 - val_accuracy: 0.8877\n"
          ]
        }
      ]
    },
    {
      "cell_type": "code",
      "source": [
        "test_loss, test_accuracy = model.evaluate(X_test, Y_test)\n",
        "print(f\"Test Loss: {test_loss}, Test Accuracy: {test_accuracy}\")\n"
      ],
      "metadata": {
        "id": "jeuM3uNxIJcE",
        "colab": {
          "base_uri": "https://localhost:8080/"
        },
        "outputId": "e693e029-e660-4a8a-825d-abfc62a0c366"
      },
      "execution_count": null,
      "outputs": [
        {
          "output_type": "stream",
          "name": "stdout",
          "text": [
            "1/1 [==============================] - 1s 891ms/step - loss: 0.8984 - accuracy: 0.9418\n",
            "Test Loss: 0.8983634114265442, Test Accuracy: 0.9417588710784912\n"
          ]
        }
      ]
    },
    {
      "cell_type": "code",
      "source": [
        "history_dict = history.history"
      ],
      "metadata": {
        "id": "i8QQ84A7IJf2"
      },
      "execution_count": null,
      "outputs": []
    },
    {
      "cell_type": "code",
      "source": [
        "# Calcular los promedios\n",
        "average_metrics = {key: sum(values) / len(values) for key, values in history_dict.items()}\n",
        "\n",
        "# Imprimir los promedios\n",
        "print(\"Promedios de Métricas:\")\n",
        "for key, value in average_metrics.items():\n",
        "    print(f\"{key}: {value}\")"
      ],
      "metadata": {
        "colab": {
          "base_uri": "https://localhost:8080/"
        },
        "id": "rqgJ4n8WNa_1",
        "outputId": "8657b081-44c9-4df2-f6fa-aa5e17c0441d"
      },
      "execution_count": null,
      "outputs": [
        {
          "output_type": "stream",
          "name": "stdout",
          "text": [
            "Promedios de Métricas:\n",
            "loss: 5.4943091630935665\n",
            "accuracy: 0.6381242752075196\n",
            "val_loss: 5.340412521362305\n",
            "val_accuracy: 0.6501611329615116\n"
          ]
        }
      ]
    },
    {
      "cell_type": "code",
      "source": [
        "import matplotlib.pyplot as plt\n",
        "\n",
        "# Asumiendo que 'history' es el objeto retornado por model.fit()\n",
        "loss = history.history['loss']\n",
        "val_loss = history.history['val_loss']\n",
        "accuracy = history.history['accuracy']\n",
        "val_accuracy = history.history['val_accuracy']\n",
        "epochs = range(1, len(loss) + 1)\n",
        "\n",
        "# Graficar la pérdida\n",
        "plt.figure(figsize=(12, 5))\n",
        "plt.subplot(1, 2, 1)\n",
        "plt.plot(epochs, loss, 'bo', label='Pérdida de entrenamiento')\n",
        "plt.plot(epochs, val_loss, 'b', label='Pérdida de validación')\n",
        "plt.title('Pérdida de Entrenamiento y Validación')\n",
        "plt.xlabel('Épocas')\n",
        "plt.ylabel('Pérdida')\n",
        "plt.legend()\n",
        "\n",
        "# Graficar la precisión\n",
        "plt.subplot(1, 2, 2)\n",
        "plt.plot(epochs, accuracy, 'bo', label='Precisión de entrenamiento')\n",
        "plt.plot(epochs, val_accuracy, 'b', label='Precisión de validación')\n",
        "plt.title('Precisión de Entrenamiento y Validación')\n",
        "plt.xlabel('Épocas')\n",
        "plt.ylabel('Precisión')\n",
        "plt.legend()\n",
        "\n",
        "plt.show()\n"
      ],
      "metadata": {
        "colab": {
          "base_uri": "https://localhost:8080/",
          "height": 510
        },
        "id": "OOB2aBkCNbNF",
        "outputId": "c67eb2c3-087f-411c-f138-84bf18281a0e"
      },
      "execution_count": null,
      "outputs": [
        {
          "output_type": "display_data",
          "data": {
            "text/plain": [
              "<Figure size 1200x500 with 2 Axes>"
            ],
            "image/png": "[encoded data removed]"
          },
          "metadata": {}
        }
      ]
    },
    {
      "cell_type": "markdown",
      "source": [
        "MODELO E-ReCNN"
      ],
      "metadata": {
        "id": "z4PGrq7a7FSj"
      }
    },
    {
      "cell_type": "code",
      "source": [
        "import numpy as np\n",
        "from sklearn.feature_extraction.image import extract_patches_2d\n",
        "from tensorflow.keras.models import Sequential\n",
        "from tensorflow.keras.layers import LSTM, Dense, Dropout\n",
        "\n",
        "# Parámetros\n",
        "patch_size = (5, 5)\n",
        "\n",
        "# Preparar listas para almacenar parches y etiquetas\n",
        "patches_before_list = []\n",
        "patches_after_list = []\n",
        "labels_list = []\n",
        "\n",
        "# Iterar sobre cada conjunto de imágenes y máscaras\n",
        "for img_before, img_after, change in zip(before_images, after_images, mask_images):\n",
        "    # Extraer parches para las imágenes 'before' y 'after'\n",
        "    patches_before = extract_patches_2d(img_before, patch_size)\n",
        "    patches_after = extract_patches_2d(img_after, patch_size)\n",
        "\n",
        "    # Extraer parches para las máscaras y generar etiquetas\n",
        "    patches_change = extract_patches_2d(change, patch_size)\n",
        "    labels = (patches_change.mean(axis=(1, 2, 3)) > 0.5).astype(int)\n",
        "\n",
        "    # Agregar a las listas\n",
        "    patches_before_list.append(patches_before)\n",
        "    patches_after_list.append(patches_after)\n",
        "    labels_list.append(labels)\n",
        "\n",
        "# Convertir listas a arrays de Numpy\n",
        "patches_before_array = np.vstack(patches_before_list)\n",
        "patches_after_array = np.vstack(patches_after_list)\n",
        "labels_array = np.concatenate(labels_list)\n",
        "\n",
        "# Concatenar parches 'before' y 'after'\n",
        "X_patches = np.concatenate([patches_before_array, patches_after_array], axis=-1)\n",
        "X_patches_seq = X_patches.reshape(-1, 25, 6)  # 25 pasos de tiempo, 6 características por paso\n",
        "\n",
        "# Verificar dimensiones\n",
        "assert X_patches_seq.shape[0] == labels_array.shape[0]\n"
      ],
      "metadata": {
        "id": "seZ0TBwnbyrY"
      },
      "execution_count": null,
      "outputs": []
    },
    {
      "cell_type": "code",
      "source": [
        "model = Sequential()\n",
        "model.add(LSTM(128, input_shape=(25, 6), return_sequences=True))  # Ajusta según la forma de tus datos\n",
        "model.add(LSTM(64))\n",
        "model.add(Dropout(0.2))\n",
        "model.add(Dense(64, activation='relu'))\n",
        "model.add(Dense(32, activation='relu'))\n",
        "model.add(Dense(1, activation='sigmoid'))  # Capa de salida para clasificación binaria\n",
        "\n",
        "model.compile(\n",
        "    optimizer='adam',\n",
        "    loss='binary_crossentropy',\n",
        "    metrics=['accuracy', 'Precision', 'Recall', 'AUC']\n",
        ")\n"
      ],
      "metadata": {
        "id": "Ay_J2R7n76OG"
      },
      "execution_count": null,
      "outputs": []
    },
    {
      "cell_type": "code",
      "source": [
        "from sklearn.model_selection import train_test_split\n",
        "\n",
        "# Dividir en entrenamiento+prueba (35% del total) y no-utilizados (65%)\n",
        "X_temp, X_no_use, Y_temp, Y_no_use = train_test_split(\n",
        "    X_patches_seq, labels_array, test_size=0.98, random_state=42\n",
        ")\n",
        "# Calcular la proporción del conjunto de prueba respecto al 35% del conjunto total\n",
        "# Esto es 10% del total / 35% del total\n",
        "test_ratio = 0.007\n",
        "\n",
        "# Dividir en entrenamiento (25% del total) y prueba (10% del total)\n",
        "X_train, X_test, Y_train, Y_test = train_test_split(\n",
        "    X_temp, Y_temp, test_size=test_ratio, random_state=42\n",
        ")\n"
      ],
      "metadata": {
        "id": "Hu-2YN6F78OC"
      },
      "execution_count": null,
      "outputs": []
    },
    {
      "cell_type": "code",
      "source": [
        "history = model.fit(\n",
        "    X_train,\n",
        "    Y_train,\n",
        "    epochs=10,\n",
        "    validation_data=(X_test, Y_test),\n",
        "    batch_size=32\n",
        ")\n"
      ],
      "metadata": {
        "colab": {
          "base_uri": "https://localhost:8080/"
        },
        "id": "LDfFwJok7-HB",
        "outputId": "d71d8df5-eafc-4255-9e45-d6f3d479dc9b"
      },
      "execution_count": null,
      "outputs": [
        {
          "output_type": "stream",
          "name": "stdout",
          "text": [
            "Epoch 1/10\n",
            "3469/3469 [==============================] - 870s 251ms/step - loss: 0.1742 - accuracy: 0.9317 - precision: 0.7670 - recall: 0.5586 - auc: 0.9381 - val_loss: 0.1745 - val_accuracy: 0.9343 - val_precision: 0.8297 - val_recall: 0.5179 - val_auc: 0.9430\n",
            "Epoch 2/10\n",
            "3469/3469 [==============================] - 843s 243ms/step - loss: 0.1726 - accuracy: 0.9327 - precision: 0.7680 - recall: 0.5694 - auc: 0.9389 - val_loss: 0.1709 - val_accuracy: 0.9339 - val_precision: 0.7904 - val_recall: 0.5548 - val_auc: 0.9421\n",
            "Epoch 3/10\n",
            "3469/3469 [==============================] - 868s 250ms/step - loss: 0.1710 - accuracy: 0.9335 - precision: 0.7717 - recall: 0.5751 - auc: 0.9404 - val_loss: 0.1724 - val_accuracy: 0.9298 - val_precision: 0.8491 - val_recall: 0.4513 - val_auc: 0.9437\n",
            "Epoch 4/10\n",
            "3469/3469 [==============================] - 867s 250ms/step - loss: 0.1692 - accuracy: 0.9334 - precision: 0.7768 - recall: 0.5665 - auc: 0.9426 - val_loss: 0.1762 - val_accuracy: 0.9305 - val_precision: 0.7895 - val_recall: 0.5150 - val_auc: 0.9384\n",
            "Epoch 5/10\n",
            "3469/3469 [==============================] - 859s 248ms/step - loss: 0.1673 - accuracy: 0.9345 - precision: 0.7812 - recall: 0.5744 - auc: 0.9434 - val_loss: 0.1720 - val_accuracy: 0.9311 - val_precision: 0.8419 - val_recall: 0.4714 - val_auc: 0.9429\n",
            "Epoch 6/10\n",
            "3469/3469 [==============================] - 857s 247ms/step - loss: 0.1661 - accuracy: 0.9338 - precision: 0.7759 - recall: 0.5731 - auc: 0.9449 - val_loss: 0.1748 - val_accuracy: 0.9313 - val_precision: 0.8415 - val_recall: 0.4737 - val_auc: 0.9430\n",
            "Epoch 7/10\n",
            "3469/3469 [==============================] - 933s 269ms/step - loss: 0.1667 - accuracy: 0.9344 - precision: 0.7851 - recall: 0.5687 - auc: 0.9445 - val_loss: 0.1727 - val_accuracy: 0.9307 - val_precision: 0.7333 - val_recall: 0.5960 - val_auc: 0.9425\n",
            "Epoch 8/10\n",
            "3469/3469 [==============================] - 932s 269ms/step - loss: 0.1647 - accuracy: 0.9348 - precision: 0.7826 - recall: 0.5759 - auc: 0.9459 - val_loss: 0.1651 - val_accuracy: 0.9358 - val_precision: 0.7996 - val_recall: 0.5674 - val_auc: 0.9451\n",
            "Epoch 9/10\n",
            "3469/3469 [==============================] - ETA: 0s - loss: 0.1649 - accuracy: 0.9348 - precision: 0.7863 - recall: 0.5713 - auc: 0.9458"
          ]
        }
      ]
    },
    {
      "cell_type": "code",
      "source": [
        "import matplotlib.pyplot as plt\n",
        "\n",
        "# Asumiendo que 'history' es el objeto retornado por model.fit()\n",
        "loss = history.history['loss']\n",
        "val_loss = history.history['val_loss']\n",
        "accuracy = history.history['accuracy']\n",
        "val_accuracy = history.history['val_accuracy']\n",
        "precision = history.history['precision']\n",
        "val_precision = history.history['val_precision']\n",
        "recall = history.history['recall']\n",
        "val_recall = history.history['val_recall']\n",
        "auc = history.history['auc']\n",
        "val_auc = history.history['val_auc']\n",
        "\n",
        "epochs = range(1, len(loss) + 1)\n",
        "\n",
        "# Graficar la pérdida\n",
        "plt.figure(figsize=(14, 5))\n",
        "plt.subplot(1, 2, 1)\n",
        "plt.plot(epochs, loss, 'bo', label='Pérdida de entrenamiento')\n",
        "plt.plot(epochs, val_loss, 'b', label='Pérdida de validación')\n",
        "plt.title('Pérdida de Entrenamiento y Validación')\n",
        "plt.xlabel('Épocas')\n",
        "plt.ylabel('Pérdida')\n",
        "plt.legend()\n",
        "\n",
        "# Graficar la precisión\n",
        "plt.subplot(1, 2, 2)\n",
        "plt.plot(epochs, accuracy, 'bo', label='Precisión de entrenamiento')\n",
        "plt.plot(epochs, val_accuracy, 'b', label='Precisión de validación')\n",
        "plt.title('Precisión de Entrenamiento y Validación')\n",
        "plt.xlabel('Épocas')\n",
        "plt.ylabel('Precisión')\n",
        "plt.legend()\n",
        "\n",
        "plt.show()\n",
        "\n",
        "# Graficar otras métricas (precisión, recall, AUC)\n",
        "plt.figure(figsize=(14, 5))\n",
        "\n",
        "# Precisión\n",
        "plt.subplot(1, 3, 1)\n",
        "plt.plot(epochs, precision, 'bo', label='Precisión de entrenamiento')\n",
        "plt.plot(epochs, val_precision, 'b', label='Precisión de validación')\n",
        "plt.title('Precisión')\n",
        "plt.xlabel('Épocas')\n",
        "plt.ylabel('Precisión')\n",
        "plt.legend()\n",
        "\n",
        "# Recall\n",
        "plt.subplot(1, 3, 2)\n",
        "plt.plot(epochs, recall, 'bo', label='Recall de entrenamiento')\n",
        "plt.plot(epochs, val_recall, 'b', label='Recall de validación')\n",
        "plt.title('Recall')\n",
        "plt.xlabel('Épocas')\n",
        "plt.ylabel('Recall')\n",
        "plt.legend()\n",
        "\n",
        "# AUC\n",
        "plt.subplot(1, 3, 3)\n",
        "plt.plot(epochs, auc, 'bo', label='AUC de entrenamiento')\n",
        "plt.plot(epochs, val_auc, 'b', label='AUC de validación')\n",
        "plt.title('AUC')\n",
        "plt.xlabel('Épocas')\n",
        "plt.ylabel('AUC')\n",
        "plt.legend()\n",
        "\n",
        "plt.show()\n"
      ],
      "metadata": {
        "id": "Y6w_fHP87__Q"
      },
      "execution_count": null,
      "outputs": []
    },
    {
      "cell_type": "code",
      "source": [],
      "metadata": {
        "id": "8I2YEvF2Cf3q"
      },
      "execution_count": null,
      "outputs": []
    }
  ]
}